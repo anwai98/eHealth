{
  "nbformat": 4,
  "nbformat_minor": 0,
  "metadata": {
    "colab": {
      "name": "eHealth.ipynb",
      "provenance": []
    },
    "kernelspec": {
      "name": "python3",
      "display_name": "Python 3"
    },
    "language_info": {
      "name": "python"
    }
  },
  "cells": [
    {
      "cell_type": "markdown",
      "source": [
        "#WELCOME TO THE QUEST"
      ],
      "metadata": {
        "id": "9m-NBtna7Wqt"
      }
    },
    {
      "cell_type": "markdown",
      "source": [
        "1. Go to ***Files***, Select ***Save a copy in Drive***, and continue with the next Instructions.\n",
        "2. Don't panic. You have patients to handle. All the Best!"
      ],
      "metadata": {
        "id": "pDz7qWJw6_Fj"
      }
    },
    {
      "cell_type": "markdown",
      "source": [
        "![image.png](data:image/png;base64,iVBORw0KGgoAAAANSUhEUgAAAHsAAAA0CAYAAACqyUfGAAAAAXNSR0IArs4c6QAAAARnQU1BAACxjwv8YQUAAAAJcEhZcwAAEnQAABJ0Ad5mH3gAAAKqSURBVHhe7ZstryIxFIbLSizBETAI4Bcg4EfgwYLce+WyGr27Eiz8E5BoggVLsGD42LyT9u4M015g2ztkOu+TTHraTNWTtud0INdsNq+CZIJvsiUZgLIzBGVnCMrOEE8naNcr87m0cndlQ274IenFKJty/UO7jd9KpnQ/iMkOi1Ux5ftBRPat3FKpFLSvYrlcyoi4IHZmK9GXyyVoiT98yA5vzYjDfeIH2mwcormy/UO7jVO2nxjrbOIfRtk8s/0jItuV4GKxKOr1uuh0OkGLPnk9QZ2tJKPFcz6fxel0EtVqNRh/lFqtJrrdrqhUKnLkH5vNRsxmM7Fer+XIfXR19u8/v8Twx0/ZI8/gTPZgMBCtVkv2zMznczGZTGTvc0yy376/yx55BicJ2qOiQbvdFv1+X/ZIkljLxtb9qGgFhGMeSRZr2b1eT0ZRsFUfj0fZi4OznSSLlWxk2eVyWfai4GwejUZiu93KkShI4pilJ4uV7EKhICM9yMAhfLFYyJEo9+YTt1jJbjQaMjJzOBzEeDzWCufKThYr2avVSkZm8vl8kH3rkrjdbicjkgRWsvf7vYz04FweDodB9q3j3nziFivZWJmmBAyCIVp3mwYwjys7Waxkg+l0KqMo2LqxhZswzSNfh7Vs3HWbsm0TeP+ZO3LiBmvZwJRt68B7eJ8kj/OvXrhR01204IzG1s2vXq/DqWwF6mdcmKAOR3mGrPt/kjH+lNgtXyLbFZTtluDMzuVyQYf4TSRBo3S/0WbjlO4nTkovkg6Msrm6/SMmW0mmbP8ISi8Zf5Re+OuPKr/wIFZ/B1JlGkkfWtlh4Uq0GifpJSZbtUowWq5qP4jIBhAalh5+SLqJyQa3sokfaGWDsGQK9wOjbAVF+8Nd2cQfeF2aISg7Q1B2ZhDiL16hvAbU6CoiAAAAAElFTkSuQmCC)\n",
        "\n",
        "Press on the Play Button (coming ahead, when instructed) as in the image and see the Magic. Remember to always Press **ONCE**. Thank you."
      ],
      "metadata": {
        "id": "H5A7PAJt6bR-"
      }
    },
    {
      "cell_type": "markdown",
      "source": [
        "##Download your Report for the Gameplay"
      ],
      "metadata": {
        "id": "T2uUArCJYht1"
      }
    },
    {
      "cell_type": "code",
      "source": [
        "from google_drive_downloader import GoogleDriveDownloader as gdd\n",
        "\n",
        "gdd.download_file_from_google_drive(file_id='15OQmMmrULSI3qCgAPB22QARYjE7Oobmq', dest_path='/content/Report.png')"
      ],
      "metadata": {
        "id": "IKm81F2_brih"
      },
      "execution_count": null,
      "outputs": []
    },
    {
      "cell_type": "markdown",
      "source": [
        "![image.png](data:image/png;base64,iVBORw0KGgoAAAANSUhEUgAAACQAAAAmCAYAAACsyDmTAAAAAXNSR0IArs4c6QAAAARnQU1BAACxjwv8YQUAAAAJcEhZcwAADsMAAA7DAcdvqGQAAADdSURBVFhH7daxDYMwEIXhS5ZgAA9AiwS7sAMDUNDRUNKzBjUMQA8DMAB1oiMnUVjkKTKKEul9DTpXf+MztyRJHvJF67pKFEU2+e72/RkMQhiEMAhhEMIghEEIfO2dc5KmqU0vy7LIOI42fQa99jCoqiovSLVtK/M823TQs23bbPIFBzVNI3Ec24T1fS91XdvkuyRomibpus5OzuV5vscXRWEnPv6ghWIQ8n+LUfeQLke9HYjeHl2aZVnaiS/42mtMlmU2YcMw7FFngoOuxj0UikEIgxAGIQxCGPSeyBNqdFV9T4NJUwAAAABJRU5ErkJggg==)\n",
        "\n",
        "On your left vertical menu, find this icon. Wait for a few seconds. A file named ***Report.png*** will pop up. Right Click on the file, Click ***Download***. Open the image in Microsoft Paint/Gimp/Preview/Paintbrush/any preferably alterate to paint to add text and mark stuff in required positions. \n",
        "\n",
        "![image.png](data:image/png;base64,iVBORw0KGgoAAAANSUhEUgAAAB8AAAAsCAYAAACdQGM6AAAAAXNSR0IArs4c6QAAAARnQU1BAACxjwv8YQUAAAAJcEhZcwAADsMAAA7DAcdvqGQAAALQSURBVFhH7ZhfSBRBHMe/aoLKWYolpWgWpXWSFP6JSHuyfxQUKUQZ+VBQD/VY0YtEvdVL0EMYvYUhqf0xLg8t7TxEhUvvxPAMU+7wLE/vzrTL+7N/mp0dIvDP7d7LvuwH5vbmNzN8fjM7s7CbEPyzLEIjEtlVE3S5JuhyTdDlmqDLNUGXa0JcclOfE922CVaLH9XycJTDS7MN7ywjLBI/quXW4Um4f/gwMubChHuWReNDlZwXBLztcUDkogiHQ2jvGWYt8aFKbndOw05mLPBRWjr7HJgPLLFW9aiSt3R++ScWeA4+/wLMvfHPXrF8bOonnFMelBXnUbEoJSDweNPVj+VQhPVSh2J5c8cg9hfl4u6V00hNTqBikSQx6ZqB1faV9VKHIrnHG8CA/RvOVZdh25YMVJXvoWJRSkAU0PLBSq7q3z0UyVvMg9iRm4WSwjxarzl6EGTuVCySE2AbGScbcZK2qSGmPLAYxKeBUdSfqWQR4IBxJw6X7qViKQGe49HWYWWtyokpN1nspJOAHLLc7pk5uDxeeGZ9KC8ppGLyQ5e8yzpE2r1slDLWfVEMR6K4dPsJXNNeGFKT5V0uCQWRPHB4LC4FqVi+3yKu1Z3Czfqz8mAFrCvvsAzjwdNWPLxVh8yNBrLDZYlEUlIiWk1WvDJZaEzy52Rn4nXjPaQb0mifWKy57DwvoOl9L2qPVaCy1Iji3fnYV7SdlAJajLvycfXCCSJKoWIpgRmvH+0f++l4Jawp7x4chfO7GzXHD7HISnKys1B78gj5J6+GlMTzZjPm/L9oPRaryh3jLjx61kZ2MQcLSeJ3cJksObnX/xEOR2jckJZC6/Lsgdn5AO4/fgHv/AJCpM96rHrPqy830CfYhiRymsny5+duRsONiyjI28p6AI1NJnwesMO3sIRIhGNRGY4cvYxN6aiqKMad6+dZdCX6ZxFN0OWaoMs1APgL999VT6ZyaGAAAAAASUVORK5CYII=)\n",
        "\n",
        "For Instance, the ***Text*** tool similar to the one above will help you add texts in the image. Don't forget to save it."
      ],
      "metadata": {
        "id": "wditX02GdVUJ"
      }
    },
    {
      "cell_type": "markdown",
      "source": [
        "##Download the Game (If you haven't already)\n",
        "It is the most important part of the session. Download it by follow the Instructions on GitHub."
      ],
      "metadata": {
        "id": "lSEblTXDqtUd"
      }
    },
    {
      "cell_type": "markdown",
      "source": [
        "#Radiology Department"
      ],
      "metadata": {
        "id": "Db7Ll_ve1_CD"
      }
    },
    {
      "cell_type": "markdown",
      "source": [
        "Hello Specialist. Welcome. You are requested to run the below code to generate your randomly allocated Patient's ID, according to which they will be attended by you and the Department of Radiology. Thank you."
      ],
      "metadata": {
        "id": "j1kPhpBy1JYj"
      }
    },
    {
      "cell_type": "code",
      "execution_count": null,
      "metadata": {
        "id": "qE0w1IzNz9po"
      },
      "outputs": [],
      "source": [
        "from random import randint\n",
        "\n",
        "def system_generated_patient_number(n):\n",
        "    range_start = 10**(n-1)\n",
        "    range_end = (10**n)-1\n",
        "    return randint(range_start, range_end)\n",
        "\n",
        "patient_number = system_generated_patient_number(7)"
      ]
    },
    {
      "cell_type": "markdown",
      "source": [
        "Note down the Patient ID below in your Radiology Form."
      ],
      "metadata": {
        "id": "6yQY1OWWq-bN"
      }
    },
    {
      "cell_type": "code",
      "source": [
        "print(\"Hello! Welcome to the Radiology Department. Your Patient's ID is eH-UdG\"+str(patient_number))"
      ],
      "metadata": {
        "id": "7aZzOZN51iH6"
      },
      "execution_count": null,
      "outputs": []
    },
    {
      "cell_type": "markdown",
      "source": [
        "## Now You Are Ready to Begin with the Game. Follow the Steps Mentioned Below :\n",
        "\n",
        "1. Use the Movement Keys (W, S, A, D or Up, Down, Left, Right) and your Mouse Cursor to Navigate Around the Room.\n",
        "2. Find your Patient. Once you have, Press Space to Instruct the Patient to Follow You, or Stay in the Specific Room. Watch Out for his requirements and help him in this huge department.\n",
        "3. Everytime he has been helped, update the Radiology Form and move to the Radiology Reporting Room, as it is supposed to be.\n",
        "4. Once the Reporting is completed, find your next patient.\n",
        "5. After every minigame, don't forget to complete the Quests here and fill up your Radiology Form checklist with a one-liner understandings of the minigame."
      ],
      "metadata": {
        "id": "GXY7A-hGLsx-"
      }
    },
    {
      "cell_type": "markdown",
      "source": [
        "##MiniGame - MRI\n",
        "Write short notes in the Radiology Form for all the quests completed below in less than 49 words."
      ],
      "metadata": {
        "id": "Hyuz1E7T5exd"
      }
    },
    {
      "cell_type": "markdown",
      "source": [
        "Visualise how the MRI Scans of your patient look as?"
      ],
      "metadata": {
        "id": "n5yNbbl78JjL"
      }
    },
    {
      "cell_type": "code",
      "source": [
        "from IPython.display import YouTubeVideo\n",
        "YouTubeVideo('IIX78qGYeAo')"
      ],
      "metadata": {
        "id": "JfMd0wlk6SPu"
      },
      "execution_count": null,
      "outputs": []
    },
    {
      "cell_type": "markdown",
      "source": [
        "##MiniGame - CT"
      ],
      "metadata": {
        "id": "8wxfd9TO5zIl"
      }
    },
    {
      "cell_type": "markdown",
      "source": [
        "Watch from 0:41"
      ],
      "metadata": {
        "id": "235YdwVu9BIT"
      }
    },
    {
      "cell_type": "code",
      "source": [
        "from IPython.display import YouTubeVideo\n",
        "YouTubeVideo('l9swbAtRRbg')"
      ],
      "metadata": {
        "id": "OLR1EbFR8qH0"
      },
      "execution_count": null,
      "outputs": []
    },
    {
      "cell_type": "markdown",
      "source": [
        "##MiniGame - Mammography"
      ],
      "metadata": {
        "id": "MiC9LDua57DL"
      }
    },
    {
      "cell_type": "markdown",
      "source": [
        "Watch the first 29 seconds"
      ],
      "metadata": {
        "id": "fclgF2AP_lt2"
      }
    },
    {
      "cell_type": "code",
      "source": [
        "from IPython.display import YouTubeVideo\n",
        "YouTubeVideo('B_LASa80I8I')"
      ],
      "metadata": {
        "id": "vTfKG1s29ke3"
      },
      "execution_count": null,
      "outputs": []
    },
    {
      "cell_type": "markdown",
      "source": [
        "##MiniGame - Ultrasound"
      ],
      "metadata": {
        "id": "zSgdsDGS6DzF"
      }
    },
    {
      "cell_type": "markdown",
      "source": [
        "Watch from 0:41"
      ],
      "metadata": {
        "id": "tw1FR6rEAFZr"
      }
    },
    {
      "cell_type": "code",
      "source": [
        "from IPython.display import YouTubeVideo\n",
        "YouTubeVideo('I1Bdp2tMFsY')"
      ],
      "metadata": {
        "id": "uAQjtrk4_tLR"
      },
      "execution_count": null,
      "outputs": []
    },
    {
      "cell_type": "markdown",
      "source": [
        "##MiniGame - Reporting"
      ],
      "metadata": {
        "id": "g9NhCxq56Dwx"
      }
    },
    {
      "cell_type": "markdown",
      "source": [
        "Select a Brain Plane and Try to Annotate your Intuitions. Feel the Struggle.\n",
        "\n",
        "Screenshot and Show us your skills in the Radiology Report."
      ],
      "metadata": {
        "id": "iKXoyH0CCz1W"
      }
    },
    {
      "cell_type": "code",
      "source": [
        "%%html\n",
        "<iframe src=\"https://htmlsegmentation.s3.eu-north-1.amazonaws.com/index.html\" width=\"1200\" height=\"1000\"></iframe>"
      ],
      "metadata": {
        "id": "79p3VtTzCwDr"
      },
      "execution_count": null,
      "outputs": []
    },
    {
      "cell_type": "markdown",
      "source": [
        "#Radiology Reporting Room Quiz - Help the Patient Complete his Diagnosis-Day"
      ],
      "metadata": {
        "id": "ceB0SFpFKZsq"
      }
    },
    {
      "cell_type": "markdown",
      "source": [
        "Open the form for the Outpatient Room in order to help facilitate the discharge of your patient.\n",
        "\n",
        "Remember to note your score in the end on the Radiology Form."
      ],
      "metadata": {
        "id": "nt397Md1rI52"
      }
    },
    {
      "cell_type": "code",
      "source": [
        "url = 'https://forms.gle/eYvzbYbrNskms9Jk9'\n",
        "print(\"Your Radiology Quest awaits here -\",url)"
      ],
      "metadata": {
        "id": "ucz0YXdJh45W"
      },
      "execution_count": null,
      "outputs": []
    },
    {
      "cell_type": "markdown",
      "source": [
        "#Feedback Form"
      ],
      "metadata": {
        "id": "vWra_lk4Dt6F"
      }
    },
    {
      "cell_type": "code",
      "source": [
        "url = 'https://forms.gle/vry15dkJ8fFbPPdz6'\n",
        "print(\"Your Feedback will be Highly Appreciated -\",url)"
      ],
      "metadata": {
        "id": "kIUOsQagDvUY"
      },
      "execution_count": null,
      "outputs": []
    }
  ]
}